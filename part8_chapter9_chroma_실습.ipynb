{
 "cells": [
  {
   "cell_type": "code",
   "execution_count": null,
   "id": "a8b84abb-ee23-4c5e-a515-64d1992af375",
   "metadata": {},
   "outputs": [],
   "source": [
    "import sys"
   ]
  },
  {
   "cell_type": "raw",
   "id": "603c086d-a245-48ab-8dd3-6b56bd5333e7",
   "metadata": {},
   "source": [
    "!{sys.executable} -m pip install kaggle kagglehub"
   ]
  },
  {
   "cell_type": "raw",
   "id": "cacdd97f-3406-4d73-90aa-acf306fd9387",
   "metadata": {},
   "source": [
    "!{sys.executable} -m pip install chromadb"
   ]
  },
  {
   "cell_type": "code",
   "execution_count": null,
   "id": "a068022e-9266-4370-b318-0a6d7dfef145",
   "metadata": {},
   "outputs": [],
   "source": [
    "import kagglehub"
   ]
  },
  {
   "cell_type": "code",
   "execution_count": null,
   "id": "6b99a0ee-c68f-42c4-8c6b-5af2570e7342",
   "metadata": {},
   "outputs": [],
   "source": [
    "path = kagglehub.dataset_download(\"matthewjansen/unsplash-lite-5k-colorization\")"
   ]
  },
  {
   "cell_type": "code",
   "execution_count": null,
   "id": "10a21e0a-2149-4085-9df0-9ccda33aa5b1",
   "metadata": {},
   "outputs": [],
   "source": [
    "path"
   ]
  },
  {
   "cell_type": "raw",
   "id": "752a09c3-5f27-4c83-9656-6fefb301064c",
   "metadata": {},
   "source": [
    "!{sys.executable} -m pip install git+https://github.com/openai/CLIP.git "
   ]
  },
  {
   "cell_type": "code",
   "execution_count": null,
   "id": "9a0f6d3e-c9cd-4c44-a1c3-5045408417a6",
   "metadata": {},
   "outputs": [],
   "source": [
    "import clip"
   ]
  },
  {
   "cell_type": "code",
   "execution_count": null,
   "id": "d18b4586-cc07-4664-a9d0-6f0a9f11bd49",
   "metadata": {},
   "outputs": [],
   "source": [
    "import torch"
   ]
  },
  {
   "cell_type": "code",
   "execution_count": null,
   "id": "e6517115-c4e5-4010-befa-d08831a71d07",
   "metadata": {},
   "outputs": [],
   "source": [
    "device = \"cuda\" if torch.cuda.is_available() else \"cpu\""
   ]
  },
  {
   "cell_type": "code",
   "execution_count": null,
   "id": "911269a1-6031-43be-9907-8af0d4357284",
   "metadata": {},
   "outputs": [],
   "source": [
    "model, preprocess = clip.load(\"RN50\", device=device)\n",
    "model.eval()"
   ]
  },
  {
   "cell_type": "code",
   "execution_count": null,
   "id": "27ff4c4b-039e-4b2f-918c-f28e6ec29a31",
   "metadata": {},
   "outputs": [],
   "source": [
    "import chromadb\n",
    "from chromadb.config import Settings"
   ]
  },
  {
   "cell_type": "code",
   "execution_count": null,
   "id": "36c1796e-db58-4b43-bc7f-08cb9cf67d7f",
   "metadata": {},
   "outputs": [],
   "source": [
    "client = chromadb.Client(Settings(persist_directory=\"./chroma_db\"))\n",
    "collection = client.get_or_create_collection(\"clip_embeddings\")"
   ]
  },
  {
   "cell_type": "code",
   "execution_count": null,
   "id": "f3de4fe5-3ff7-484e-ba6d-3f94bc13f5c0",
   "metadata": {},
   "outputs": [],
   "source": [
    "from PIL import Image\n",
    "from tqdm.auto import tqdm\n",
    "import os\n",
    "import numpy as np"
   ]
  },
  {
   "cell_type": "code",
   "execution_count": null,
   "id": "ac502783-5d0d-4e1b-b2aa-4ab977c8077b",
   "metadata": {},
   "outputs": [],
   "source": [
    "image_folder_path = \"C:/Users/User/.cache/kagglehub/datasets/matthewjansen/unsplash-lite-5k-colorization/versions/2/test/color/\""
   ]
  },
  {
   "cell_type": "code",
   "execution_count": null,
   "id": "0c8bf4ab-e9e6-41c6-ab22-a6be5769aa76",
   "metadata": {},
   "outputs": [],
   "source": [
    "image_paths = []\n",
    "\n",
    "# Process and add each image to ChromaDB\n",
    "for image_name in tqdm(os.listdir(image_folder_path)):\n",
    "    image_path = os.path.join(image_folder_path, image_name)\n",
    "    if image_path.endswith(('jpg', 'jpeg', 'png')):  # Filter for image files\n",
    "        image = Image.open(image_path).convert(\"RGB\")\n",
    "        image_input = preprocess(image).unsqueeze(0).to(device)\n",
    "\n",
    "        with torch.no_grad():\n",
    "            image_embedding = model.encode_image(image_input).cpu().numpy().flatten()  # Generate embedding\n",
    "        \n",
    "        # Add embedding and metadata to ChromaDB collection\n",
    "        collection.add(\n",
    "            embeddings=[image_embedding.tolist()],  # Place embeddings here\n",
    "            metadatas=[{\"filename\": image_name, \"path\": image_path}],  # Store metadata here\n",
    "            ids=[image_name],  # Unique IDs for each entry\n",
    "            documents=[None]  # Set to None if you don’t have text documents\n",
    "        )\n",
    "\n",
    "print(\"All image embeddings have been added to ChromaDB.\")"
   ]
  },
  {
   "cell_type": "code",
   "execution_count": null,
   "id": "45a804bb-87e4-400c-8167-3a8428d9b7f8",
   "metadata": {},
   "outputs": [],
   "source": [
    "def get_text_embedding(query_text):\n",
    "    with torch.no_grad():\n",
    "        text_tokens = clip.tokenize([query_text]).to(device)  # Tokenize the text\n",
    "        text_embedding = model.encode_text(text_tokens).cpu().numpy().flatten()  # Generate embedding\n",
    "    return text_embedding"
   ]
  },
  {
   "cell_type": "code",
   "execution_count": null,
   "id": "935dc5d9-bee8-4587-9c83-bbb74672b2da",
   "metadata": {},
   "outputs": [],
   "source": [
    "def search_similar_images_by_text(query_text, top_k=5):\n",
    "\n",
    "    text_embedding = get_text_embedding(query_text)\n",
    "    \n",
    "    results = collection.query(\n",
    "        query_embeddings=[text_embedding.tolist()], \n",
    "        n_results=top_k  \n",
    "    )\n",
    "    \n",
    "    print(f\"Top {top_k} similar images for text query '{query_text}':\")\n",
    "    search_results = []\n",
    "    for i, result in enumerate(results[\"metadatas\"][0]):\n",
    "        print(f\"{i+1}: {result['filename']} - Path: {result['path']}\")\n",
    "        search_results.append(result['path'])\n",
    "    return search_results"
   ]
  },
  {
   "cell_type": "code",
   "execution_count": null,
   "id": "fa9dde80-8f05-4b52-ada4-475b9ab666e9",
   "metadata": {},
   "outputs": [],
   "source": [
    "image_results = search_similar_images_by_text(\"a beautiful sunset over water\", top_k=5)"
   ]
  },
  {
   "cell_type": "code",
   "execution_count": null,
   "id": "e0bc951d-7099-4dab-ba93-09fc38667001",
   "metadata": {},
   "outputs": [],
   "source": [
    "import matplotlib.pyplot as plt\n",
    "plt.figure(figsize=(20, 5)) \n",
    "\n",
    "for i, img_path in enumerate(image_results):\n",
    "    img = Image.open(img_path)\n",
    "    \n",
    "    # Display each image in a subplot\n",
    "    plt.subplot(1, 5, i + 1)\n",
    "    plt.imshow(img)\n",
    "    plt.axis('off') \n",
    "plt.show()"
   ]
  },
  {
   "cell_type": "code",
   "execution_count": null,
   "id": "d09ab44f-5bd9-4686-8080-dbb17645a1d9",
   "metadata": {},
   "outputs": [],
   "source": []
  },
  {
   "cell_type": "code",
   "execution_count": null,
   "id": "21be390a-72d5-46e0-a02a-8554aac14ead",
   "metadata": {},
   "outputs": [],
   "source": []
  }
 ],
 "metadata": {
  "kernelspec": {
   "display_name": "whisper",
   "language": "python",
   "name": "whisper"
  },
  "language_info": {
   "codemirror_mode": {
    "name": "ipython",
    "version": 3
   },
   "file_extension": ".py",
   "mimetype": "text/x-python",
   "name": "python",
   "nbconvert_exporter": "python",
   "pygments_lexer": "ipython3",
   "version": "3.12.7"
  }
 },
 "nbformat": 4,
 "nbformat_minor": 5
}
