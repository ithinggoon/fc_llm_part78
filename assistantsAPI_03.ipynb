{
 "cells": [
  {
   "cell_type": "code",
   "execution_count": 8,
   "id": "749f7bf9-7f3f-47fa-95f6-a10b3b676bf2",
   "metadata": {},
   "outputs": [],
   "source": [
    "import os\n",
    "import io\n",
    "import json\n",
    "import base64\n",
    "import asyncio\n",
    "import websockets\n",
    "from pydub import AudioSegment\n",
    "import soundfile as sf\n",
    "import gradio as gr\n",
    "import nest_asyncio\n",
    "\n",
    "# Allow asyncio to run in Jupyter Notebook\n",
    "nest_asyncio.apply()"
   ]
  },
  {
   "cell_type": "code",
   "execution_count": 14,
   "id": "be1989ba-3837-4584-99da-348ccc7c2b7b",
   "metadata": {},
   "outputs": [],
   "source": [
    "# OpenAI 웹소켓 연결 설정\n",
    "async def connect_to_openai_websocket(audio_event):\n",
    "    url = \"wss://api.openai.com/v1/realtime?model=gpt-4o-realtime-preview-2024-10-01\"\n",
    "    headers = {\n",
    "        \"Authorization\": f\"Bearer XXX\",\n",
    "        \"OpenAI-Beta\": \"realtime=v1\",\n",
    "    }\n",
    "\n",
    "    async with websockets.connect(url, extra_headers=headers) as ws:\n",
    "        print(\"Connected to server.\")\n",
    "\n",
    "        # Send the audio event\n",
    "        await ws.send(audio_event)\n",
    "        print(\"Audio event sent.\")\n",
    "\n",
    "        async for message in ws:\n",
    "            event = json.loads(message)\n",
    "\n",
    "            if event.get('type') == 'conversation.item.created':\n",
    "                # Send a command to create a response\n",
    "                response_message = {\"type\": \"response.create\"}\n",
    "                await ws.send(json.dumps(response_message))\n",
    "                print(\"Response create command sent.\")\n",
    "\n",
    "                audio_data_list = []\n",
    "\n",
    "                async for message in ws:\n",
    "                    event = json.loads(message)\n",
    "\n",
    "                    if event.get('type') == 'response.audio.delta':  # Handle audio chunks\n",
    "                        audio_data_list.append(event['delta'])\n",
    "\n",
    "                    if event.get('type') == 'response.audio.done':  # Complete audio response\n",
    "                        full_audio_base64 = ''.join(audio_data_list)\n",
    "                        audio_data = base64.b64decode(full_audio_base64)\n",
    "                        return audio_data"
   ]
  },
  {
   "cell_type": "code",
   "execution_count": 10,
   "id": "be6d45b7-5089-44c4-81bc-d8f3b8a7121b",
   "metadata": {},
   "outputs": [],
   "source": [
    "\n",
    "# NumPy 오디오 데이터를 WAV 포맷으로 변환\n",
    "def numpy_to_audio_bytes(audio_np, sample_rate):\n",
    "    with io.BytesIO() as buffer:\n",
    "        sf.write(buffer, audio_np, samplerate=sample_rate, format='WAV')\n",
    "        buffer.seek(0)\n",
    "        wav_bytes = buffer.read()\n",
    "    return wav_bytes\n",
    "\n",
    "# 오디오 이벤트 생성\n",
    "def audio_to_item_create_event(audio_data: tuple) -> str:\n",
    "    sample_rate, audio_np = audio_data\n",
    "    audio_bytes = numpy_to_audio_bytes(audio_np, sample_rate)\n",
    "    pcm_base64 = base64.b64encode(audio_bytes).decode('utf-8')\n",
    "\n",
    "    event = {\n",
    "        \"type\": \"conversation.item.create\",\n",
    "        \"item\": {\n",
    "            \"type\": \"message\",\n",
    "            \"role\": \"user\",\n",
    "            \"content\": [{\n",
    "                \"type\": \"input_audio\",\n",
    "                \"audio\": pcm_base64\n",
    "            }]\n",
    "        }\n",
    "    }\n",
    "    return json.dumps(event)\n"
   ]
  },
  {
   "cell_type": "code",
   "execution_count": 11,
   "id": "d2476965-e7ea-4af8-bfb3-41cecee9decb",
   "metadata": {},
   "outputs": [],
   "source": [
    "\n",
    "# 음성 응답 함수\n",
    "def voice_chat_response(audio_data, history):\n",
    "    audio_event = audio_to_item_create_event(audio_data)\n",
    "\n",
    "    loop = asyncio.get_event_loop()\n",
    "    if loop.is_running():\n",
    "        audio_response = asyncio.ensure_future(connect_to_openai_websocket(audio_event))\n",
    "    else:\n",
    "        audio_response = asyncio.run(connect_to_openai_websocket(audio_event))\n",
    "\n",
    "    if isinstance(audio_response, bytes):\n",
    "        audio_io = io.BytesIO(audio_response)\n",
    "        audio_segment = AudioSegment.from_raw(\n",
    "            audio_io, \n",
    "            sample_width=2, \n",
    "            frame_rate=24000, \n",
    "            channels=1\n",
    "        )\n",
    "        \n",
    "        with io.BytesIO() as buffered:\n",
    "            audio_segment.export(buffered, format=\"wav\")\n",
    "            return buffered.getvalue(), history\n",
    "\n",
    "    return None, history\n"
   ]
  },
  {
   "cell_type": "code",
   "execution_count": 12,
   "id": "71003140-be2a-40b8-a336-6ad9ead810df",
   "metadata": {},
   "outputs": [],
   "source": [
    "\n",
    "\n",
    "# Gradio UI 설정\n",
    "with gr.Blocks(title=\"OpenAI Realtime API\") as demo:\n",
    "    gr.Markdown(\"<h1 style='text-align: center;'>OpenAI Realtime API</h1>\")\n",
    "\n",
    "    with gr.Tab(\"VoiceChat\"):\n",
    "        gr.Markdown(\"음성으로 실시간 대화를 해보세요\")\n",
    "\n",
    "        audio_input = gr.Audio(\n",
    "            label=\"Record your voice\",\n",
    "            sources=\"microphone\",\n",
    "            type=\"numpy\",\n",
    "            render=True\n",
    "        )\n",
    "        \n",
    "        audio_output = gr.Audio(\n",
    "            autoplay=True,\n",
    "            render=True\n",
    "        )\n",
    "        \n",
    "        history_state = gr.State([])\n",
    "\n",
    "        gr.Interface(\n",
    "            fn=voice_chat_response,\n",
    "            inputs=[audio_input, history_state],\n",
    "            outputs=[audio_output, history_state]\n",
    "        )"
   ]
  },
  {
   "cell_type": "code",
   "execution_count": 15,
   "id": "2c963453-3527-40c4-82dc-ecfc5899fe30",
   "metadata": {},
   "outputs": [
    {
     "name": "stdout",
     "output_type": "stream",
     "text": [
      "Rerunning server... use `close()` to stop if you need to change `launch()` parameters.\n",
      "----\n",
      "* Running on public URL: https://1681eceb03f3159f56.gradio.live\n",
      "\n",
      "This share link expires in 72 hours. For free permanent hosting and GPU upgrades, run `gradio deploy` from the terminal in the working directory to deploy to Hugging Face Spaces (https://huggingface.co/spaces)\n"
     ]
    },
    {
     "data": {
      "text/html": [
       "<div><iframe src=\"https://1681eceb03f3159f56.gradio.live\" width=\"100%\" height=\"500\" allow=\"autoplay; camera; microphone; clipboard-read; clipboard-write;\" frameborder=\"0\" allowfullscreen></iframe></div>"
      ],
      "text/plain": [
       "<IPython.core.display.HTML object>"
      ]
     },
     "metadata": {},
     "output_type": "display_data"
    },
    {
     "data": {
      "text/plain": []
     },
     "execution_count": 15,
     "metadata": {},
     "output_type": "execute_result"
    },
    {
     "name": "stdout",
     "output_type": "stream",
     "text": [
      "Connected to server.\n",
      "Audio event sent.\n",
      "Response create command sent.\n",
      "Connected to server.\n",
      "Audio event sent.\n",
      "Response create command sent.\n"
     ]
    }
   ],
   "source": [
    "demo.launch(share=True) "
   ]
  },
  {
   "cell_type": "code",
   "execution_count": null,
   "id": "7028664b-5ee7-4992-95c7-c6368705f06f",
   "metadata": {},
   "outputs": [],
   "source": []
  }
 ],
 "metadata": {
  "kernelspec": {
   "display_name": "whisper",
   "language": "python",
   "name": "whisper"
  },
  "language_info": {
   "codemirror_mode": {
    "name": "ipython",
    "version": 3
   },
   "file_extension": ".py",
   "mimetype": "text/x-python",
   "name": "python",
   "nbconvert_exporter": "python",
   "pygments_lexer": "ipython3",
   "version": "3.12.7"
  }
 },
 "nbformat": 4,
 "nbformat_minor": 5
}
