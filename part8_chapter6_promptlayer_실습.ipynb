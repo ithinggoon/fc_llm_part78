{
 "cells": [
  {
   "cell_type": "code",
   "execution_count": null,
   "id": "a644d68f-f2c0-41b0-b8b0-5e13a4f9544c",
   "metadata": {},
   "outputs": [],
   "source": [
    "import os\n",
    "import openai  # OpenAI 라이브러리 불러오기\n",
    "\n",
    "# OpenAI API 키를 환경 변수에 설정\n",
    "os.environ[\"OPENAI_API_KEY\"] = \"your_openai_api_key_here\"\n",
    "\n",
    "# 환경 변수에서 키를 가져와 OpenAI 라이브러리에 설정\n",
    "openai.api_key = os.getenv(\"OPENAI_API_KEY\")"
   ]
  },
  {
   "cell_type": "code",
   "execution_count": null,
   "id": "e5b1f2ed-f9d8-4d36-b7ea-af500e30fde2",
   "metadata": {},
   "outputs": [],
   "source": [
    "import os\n",
    "from openai import OpenAI\n",
    "\n",
    "client = OpenAI(\n",
    "    api_key=os.environ.get(\"OPENAI_API_KEY\"),  # This is the default and can be omitted\n",
    ")"
   ]
  },
  {
   "cell_type": "code",
   "execution_count": null,
   "id": "ac4e4198-ef42-4866-a674-5032aea77187",
   "metadata": {},
   "outputs": [],
   "source": [
    "completion = client.chat.completions.create(\n",
    "  model=\"gpt-3.5-turbo\",\n",
    "  messages=[\n",
    "    {\"role\": \"system\", \"content\": \"\"},\n",
    "    {\"role\": \"user\", \"content\": \"Compose a poem please.\"}\n",
    "  ],\n",
    "  pl_tags=[\"getting-started\"]\n",
    ")"
   ]
  },
  {
   "cell_type": "code",
   "execution_count": null,
   "id": "e4e27d42-39d2-49a2-8aa5-cc728292b5c5",
   "metadata": {},
   "outputs": [],
   "source": []
  },
  {
   "cell_type": "code",
   "execution_count": null,
   "id": "8fca3c0d-6780-4ab7-be5a-76bd96edaa6a",
   "metadata": {},
   "outputs": [],
   "source": [
    "completion = client.chat.completions.create(\n",
    "  model=\"gpt-3.5-turbo\",\n",
    "  messages=[\n",
    "    {\"role\": \"system\", \"content\": \"당신은 유머와 기발한 상상력을 갖춘 AI 이야기꾼입니다.\"},\n",
    "    {\"role\": \"user\", \"content\": \"한밤중에 로봇이 깨어나 벌이는 모험 이야기를 들려주세요. 유머를 섞어서 재미있게요.\"}\n",
    "  ],\n",
    "  pl_tags=[\"story\", \"humor\", \"robot-adventure\"]\n",
    ")\n"
   ]
  },
  {
   "cell_type": "code",
   "execution_count": null,
   "id": "ea02ffe4-e88d-42c7-80fe-04f20119ab0f",
   "metadata": {},
   "outputs": [],
   "source": [
    "from promptlayer import PromptLayer\n",
    "pl_client = PromptLayer(api_key = \"XXX\")\n",
    "\n",
    "# Swap out 'from openai import OpenAI'\n",
    "client = pl_client.openai.OpenAI(\n",
    "    api_key = openai.api_key\n",
    ")\n",
    "\n",
    "completion = client.chat.completions.create(\n",
    "    model=\"gpt-4o-mini\",\n",
    "    messages= [\n",
    "        {\"role\":\"system\", \"content\":\"당신은 창의적의고 유머감각이 좋은 웹소설 생성 에이전트입니다.\"},\n",
    "        {\"role\":\"user\",  \"content\":\"뜬금없이 닌자가 나타나서 작중 등장인물을 모두 죽이는 내용에 대한 소설을 쓰기 위해 필요한 절차를 순서대로 알려주세요.\"}\n",
    "    ],\n",
    "    pl_tags=[\"소설\",\"닌자\"]\n",
    ")\n",
    "\n",
    "response = pl_client.run(\n",
    "    prompt_name=\"닌자 학살 웹소설\",\n",
    "    input_variables={\"key\": \"value\"},  # 필요 시 적절한 변수 입력\n",
    "    llm_kwargs={\"model\": \"gpt-3.5-turbo\", \"temperature\": 0.7, \"max_tokens\": 150}\n",
    ")"
   ]
  }
 ],
 "metadata": {
  "kernelspec": {
   "display_name": "fastc",
   "language": "python",
   "name": "fastc"
  },
  "language_info": {
   "codemirror_mode": {
    "name": "ipython",
    "version": 3
   },
   "file_extension": ".py",
   "mimetype": "text/x-python",
   "name": "python",
   "nbconvert_exporter": "python",
   "pygments_lexer": "ipython3",
   "version": "3.11.7"
  }
 },
 "nbformat": 4,
 "nbformat_minor": 5
}
