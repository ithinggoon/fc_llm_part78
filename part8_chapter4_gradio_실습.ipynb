{
 "cells": [
  {
   "cell_type": "code",
   "execution_count": 8,
   "id": "bdc597be-fd9c-43f7-a081-b1edf64d6695",
   "metadata": {},
   "outputs": [
    {
     "name": "stdout",
     "output_type": "stream",
     "text": [
      "* Running on local URL:  http://127.0.0.1:7864\n",
      "\n",
      "To create a public link, set `share=True` in `launch()`.\n"
     ]
    },
    {
     "data": {
      "text/html": [
       "<div><iframe src=\"http://127.0.0.1:7864/\" width=\"100%\" height=\"500\" allow=\"autoplay; camera; microphone; clipboard-read; clipboard-write;\" frameborder=\"0\" allowfullscreen></iframe></div>"
      ],
      "text/plain": [
       "<IPython.core.display.HTML object>"
      ]
     },
     "metadata": {},
     "output_type": "display_data"
    },
    {
     "data": {
      "text/plain": []
     },
     "execution_count": 8,
     "metadata": {},
     "output_type": "execute_result"
    }
   ],
   "source": [
    "import gradio as gr\n",
    "\n",
    "import requests\n",
    "import json\n",
    "\n",
    "# Ollama API 주소와 모델 설정\n",
    "API_URL = \"http://localhost:11434/api/generate\"\n",
    "MODEL_NAME = \"llama3.2:3B\"\n",
    "\n",
    "# API 호출 함수\n",
    "def get_response_from_ollama(prompt):\n",
    "    headers = {'Content-Type': 'application/json'}\n",
    "    payload = {\n",
    "        \"model\": MODEL_NAME,\n",
    "        \"prompt\": prompt,\n",
    "        \"stream\": False\n",
    "    }\n",
    "    try:\n",
    "        response = requests.post(API_URL, headers=headers, data=json.dumps(payload))\n",
    "        response_data = response.json()\n",
    "        return response_data.get(\"response\", \"No response received.\")\n",
    "    except requests.exceptions.RequestException as e:\n",
    "        return f\"Error: {e}\"\n",
    "\n",
    "# Gradio에서 사용할 채팅 함수\n",
    "def chat(prompt, history):\n",
    "    # 사용자 입력을 history에 추가\n",
    "    history.append({\"role\": \"user\", \"content\": prompt})\n",
    "    \n",
    "    # Ollama API로부터 응답을 받음\n",
    "    response = get_response_from_ollama(prompt)\n",
    "    \n",
    "    # Ollama의 응답을 history에 추가\n",
    "    history.append({\"role\": \"assistant\", \"content\": response})\n",
    "    \n",
    "    return \"\", history\n",
    "\n",
    "# Gradio UI 구성\n",
    "with gr.Blocks() as demo:\n",
    "    gr.Markdown(\"# Ollama Chat UI\")\n",
    "    \n",
    "    # Chatbot 타입을 messages로 설정\n",
    "    chatbot = gr.Chatbot(type=\"messages\"0)\n",
    "    \n",
    "    # 사용자 입력창과 버튼을 중앙에 배치하고 scale 조정\n",
    "    with gr.Row():\n",
    "        txt_input = gr.Textbox(placeholder=\"Enter your message here...\", lines=1)\n",
    "        submit_button = gr.Button(\"Send\")\n",
    "    \n",
    "    # 텍스트 입력 및 전송 버튼의 동작 설정\n",
    "    submit_button.click(chat, inputs=[txt_input, chatbot], outputs=[txt_input, chatbot])\n",
    "    txt_input.submit(chat, inputs=[txt_input, chatbot], outputs=[txt_input, chatbot])\n",
    "\n",
    "# Gradio 앱 실행\n",
    "demo.launch()"
   ]
  }
 ],
 "metadata": {
  "kernelspec": {
   "display_name": "Python 3 (ipykernel)",
   "language": "python",
   "name": "python3"
  },
  "language_info": {
   "codemirror_mode": {
    "name": "ipython",
    "version": 3
   },
   "file_extension": ".py",
   "mimetype": "text/x-python",
   "name": "python",
   "nbconvert_exporter": "python",
   "pygments_lexer": "ipython3",
   "version": "3.11.7"
  }
 },
 "nbformat": 4,
 "nbformat_minor": 5
}
