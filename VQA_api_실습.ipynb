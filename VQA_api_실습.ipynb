{
  "nbformat": 4,
  "nbformat_minor": 0,
  "metadata": {
    "colab": {
      "provenance": []
    },
    "kernelspec": {
      "name": "python3",
      "display_name": "Python 3"
    },
    "language_info": {
      "name": "python"
    },
    "widgets": {
      "application/vnd.jupyter.widget-state+json": {
        "9244ed73ec9b4b548de909cca65be767": {
          "model_module": "@jupyter-widgets/controls",
          "model_name": "TextareaModel",
          "model_module_version": "1.5.0",
          "state": {
            "_dom_classes": [],
            "_model_module": "@jupyter-widgets/controls",
            "_model_module_version": "1.5.0",
            "_model_name": "TextareaModel",
            "_view_count": null,
            "_view_module": "@jupyter-widgets/controls",
            "_view_module_version": "1.5.0",
            "_view_name": "TextareaView",
            "continuous_update": true,
            "description": "Question:",
            "description_tooltip": null,
            "disabled": false,
            "layout": "IPY_MODEL_745335a74f254d179892fc8d8e5d3402",
            "placeholder": "Enter your question here",
            "rows": null,
            "style": "IPY_MODEL_7ebe007ab8fb4ff9a9d4361e00c1d152",
            "value": ""
          }
        },
        "745335a74f254d179892fc8d8e5d3402": {
          "model_module": "@jupyter-widgets/base",
          "model_name": "LayoutModel",
          "model_module_version": "1.2.0",
          "state": {
            "_model_module": "@jupyter-widgets/base",
            "_model_module_version": "1.2.0",
            "_model_name": "LayoutModel",
            "_view_count": null,
            "_view_module": "@jupyter-widgets/base",
            "_view_module_version": "1.2.0",
            "_view_name": "LayoutView",
            "align_content": null,
            "align_items": null,
            "align_self": null,
            "border": null,
            "bottom": null,
            "display": null,
            "flex": null,
            "flex_flow": null,
            "grid_area": null,
            "grid_auto_columns": null,
            "grid_auto_flow": null,
            "grid_auto_rows": null,
            "grid_column": null,
            "grid_gap": null,
            "grid_row": null,
            "grid_template_areas": null,
            "grid_template_columns": null,
            "grid_template_rows": null,
            "height": null,
            "justify_content": null,
            "justify_items": null,
            "left": null,
            "margin": null,
            "max_height": null,
            "max_width": null,
            "min_height": null,
            "min_width": null,
            "object_fit": null,
            "object_position": null,
            "order": null,
            "overflow": null,
            "overflow_x": null,
            "overflow_y": null,
            "padding": null,
            "right": null,
            "top": null,
            "visibility": null,
            "width": null
          }
        },
        "7ebe007ab8fb4ff9a9d4361e00c1d152": {
          "model_module": "@jupyter-widgets/controls",
          "model_name": "DescriptionStyleModel",
          "model_module_version": "1.5.0",
          "state": {
            "_model_module": "@jupyter-widgets/controls",
            "_model_module_version": "1.5.0",
            "_model_name": "DescriptionStyleModel",
            "_view_count": null,
            "_view_module": "@jupyter-widgets/base",
            "_view_module_version": "1.2.0",
            "_view_name": "StyleView",
            "description_width": ""
          }
        },
        "932859051f8e45de9a590db6dcfef8b5": {
          "model_module": "@jupyter-widgets/controls",
          "model_name": "TextModel",
          "model_module_version": "1.5.0",
          "state": {
            "_dom_classes": [],
            "_model_module": "@jupyter-widgets/controls",
            "_model_module_version": "1.5.0",
            "_model_name": "TextModel",
            "_view_count": null,
            "_view_module": "@jupyter-widgets/controls",
            "_view_module_version": "1.5.0",
            "_view_name": "TextView",
            "continuous_update": true,
            "description": "Image URL:",
            "description_tooltip": null,
            "disabled": false,
            "layout": "IPY_MODEL_27b741d2e80a42ac97a243f9e7fd6a77",
            "placeholder": "Enter image URL here",
            "style": "IPY_MODEL_9c4f81265e6d4abf9eeff0d9c92d173a",
            "value": ""
          }
        },
        "27b741d2e80a42ac97a243f9e7fd6a77": {
          "model_module": "@jupyter-widgets/base",
          "model_name": "LayoutModel",
          "model_module_version": "1.2.0",
          "state": {
            "_model_module": "@jupyter-widgets/base",
            "_model_module_version": "1.2.0",
            "_model_name": "LayoutModel",
            "_view_count": null,
            "_view_module": "@jupyter-widgets/base",
            "_view_module_version": "1.2.0",
            "_view_name": "LayoutView",
            "align_content": null,
            "align_items": null,
            "align_self": null,
            "border": null,
            "bottom": null,
            "display": null,
            "flex": null,
            "flex_flow": null,
            "grid_area": null,
            "grid_auto_columns": null,
            "grid_auto_flow": null,
            "grid_auto_rows": null,
            "grid_column": null,
            "grid_gap": null,
            "grid_row": null,
            "grid_template_areas": null,
            "grid_template_columns": null,
            "grid_template_rows": null,
            "height": null,
            "justify_content": null,
            "justify_items": null,
            "left": null,
            "margin": null,
            "max_height": null,
            "max_width": null,
            "min_height": null,
            "min_width": null,
            "object_fit": null,
            "object_position": null,
            "order": null,
            "overflow": null,
            "overflow_x": null,
            "overflow_y": null,
            "padding": null,
            "right": null,
            "top": null,
            "visibility": null,
            "width": null
          }
        },
        "9c4f81265e6d4abf9eeff0d9c92d173a": {
          "model_module": "@jupyter-widgets/controls",
          "model_name": "DescriptionStyleModel",
          "model_module_version": "1.5.0",
          "state": {
            "_model_module": "@jupyter-widgets/controls",
            "_model_module_version": "1.5.0",
            "_model_name": "DescriptionStyleModel",
            "_view_count": null,
            "_view_module": "@jupyter-widgets/base",
            "_view_module_version": "1.2.0",
            "_view_name": "StyleView",
            "description_width": ""
          }
        },
        "310ae38103cf4156847fa23b1f900429": {
          "model_module": "@jupyter-widgets/controls",
          "model_name": "ButtonModel",
          "model_module_version": "1.5.0",
          "state": {
            "_dom_classes": [],
            "_model_module": "@jupyter-widgets/controls",
            "_model_module_version": "1.5.0",
            "_model_name": "ButtonModel",
            "_view_count": null,
            "_view_module": "@jupyter-widgets/controls",
            "_view_module_version": "1.5.0",
            "_view_name": "ButtonView",
            "button_style": "primary",
            "description": "Submit",
            "disabled": false,
            "icon": "",
            "layout": "IPY_MODEL_3d6bfd6b14ea4959ad166f1221ef87fa",
            "style": "IPY_MODEL_3a3c1741f27649e78f6a9c68f60c1023",
            "tooltip": ""
          }
        },
        "3d6bfd6b14ea4959ad166f1221ef87fa": {
          "model_module": "@jupyter-widgets/base",
          "model_name": "LayoutModel",
          "model_module_version": "1.2.0",
          "state": {
            "_model_module": "@jupyter-widgets/base",
            "_model_module_version": "1.2.0",
            "_model_name": "LayoutModel",
            "_view_count": null,
            "_view_module": "@jupyter-widgets/base",
            "_view_module_version": "1.2.0",
            "_view_name": "LayoutView",
            "align_content": null,
            "align_items": null,
            "align_self": null,
            "border": null,
            "bottom": null,
            "display": null,
            "flex": null,
            "flex_flow": null,
            "grid_area": null,
            "grid_auto_columns": null,
            "grid_auto_flow": null,
            "grid_auto_rows": null,
            "grid_column": null,
            "grid_gap": null,
            "grid_row": null,
            "grid_template_areas": null,
            "grid_template_columns": null,
            "grid_template_rows": null,
            "height": null,
            "justify_content": null,
            "justify_items": null,
            "left": null,
            "margin": null,
            "max_height": null,
            "max_width": null,
            "min_height": null,
            "min_width": null,
            "object_fit": null,
            "object_position": null,
            "order": null,
            "overflow": null,
            "overflow_x": null,
            "overflow_y": null,
            "padding": null,
            "right": null,
            "top": null,
            "visibility": null,
            "width": null
          }
        },
        "3a3c1741f27649e78f6a9c68f60c1023": {
          "model_module": "@jupyter-widgets/controls",
          "model_name": "ButtonStyleModel",
          "model_module_version": "1.5.0",
          "state": {
            "_model_module": "@jupyter-widgets/controls",
            "_model_module_version": "1.5.0",
            "_model_name": "ButtonStyleModel",
            "_view_count": null,
            "_view_module": "@jupyter-widgets/base",
            "_view_module_version": "1.2.0",
            "_view_name": "StyleView",
            "button_color": null,
            "font_weight": ""
          }
        },
        "de4262735cc345a89f77b774214b8d39": {
          "model_module": "@jupyter-widgets/output",
          "model_name": "OutputModel",
          "model_module_version": "1.0.0",
          "state": {
            "_dom_classes": [],
            "_model_module": "@jupyter-widgets/output",
            "_model_module_version": "1.0.0",
            "_model_name": "OutputModel",
            "_view_count": null,
            "_view_module": "@jupyter-widgets/output",
            "_view_module_version": "1.0.0",
            "_view_name": "OutputView",
            "layout": "IPY_MODEL_68edeba0848e4588aba46f7c8b8bde99",
            "msg_id": "",
            "outputs": []
          }
        },
        "68edeba0848e4588aba46f7c8b8bde99": {
          "model_module": "@jupyter-widgets/base",
          "model_name": "LayoutModel",
          "model_module_version": "1.2.0",
          "state": {
            "_model_module": "@jupyter-widgets/base",
            "_model_module_version": "1.2.0",
            "_model_name": "LayoutModel",
            "_view_count": null,
            "_view_module": "@jupyter-widgets/base",
            "_view_module_version": "1.2.0",
            "_view_name": "LayoutView",
            "align_content": null,
            "align_items": null,
            "align_self": null,
            "border": null,
            "bottom": null,
            "display": null,
            "flex": null,
            "flex_flow": null,
            "grid_area": null,
            "grid_auto_columns": null,
            "grid_auto_flow": null,
            "grid_auto_rows": null,
            "grid_column": null,
            "grid_gap": null,
            "grid_row": null,
            "grid_template_areas": null,
            "grid_template_columns": null,
            "grid_template_rows": null,
            "height": null,
            "justify_content": null,
            "justify_items": null,
            "left": null,
            "margin": null,
            "max_height": null,
            "max_width": null,
            "min_height": null,
            "min_width": null,
            "object_fit": null,
            "object_position": null,
            "order": null,
            "overflow": null,
            "overflow_x": null,
            "overflow_y": null,
            "padding": null,
            "right": null,
            "top": null,
            "visibility": null,
            "width": null
          }
        }
      }
    }
  },
  "cells": [
    {
      "cell_type": "code",
      "source": [
        "import os\n",
        "import time\n",
        "from IPython.display import display, HTML, clear_output\n",
        "from openai import OpenAI\n",
        "import ipywidgets as widgets"
      ],
      "metadata": {
        "id": "U-Wj7qTgbe2x"
      },
      "execution_count": null,
      "outputs": []
    },
    {
      "cell_type": "code",
      "source": [
        "os.environ[\"OPENAI_API_KEY\"] = \"your_api_key\"\n",
        "\n",
        "client = OpenAI(api_key=os.environ.get(\"OPENAI_API_KEY\"))"
      ],
      "metadata": {
        "id": "AUOJeQd5bfKc"
      },
      "execution_count": null,
      "outputs": []
    },
    {
      "cell_type": "code",
      "source": [
        "# OpenAI API에 질문 및 이미지 URL을 전송하고 응답을 받음\n",
        "def fetch_response(question_text, image_url):\n",
        "    # Make API call to get response\n",
        "    response = client.chat.completions.create(\n",
        "        model=\"gpt-4o-mini\",\n",
        "        messages=[\n",
        "            {\n",
        "                \"role\": \"user\",\n",
        "                \"content\": [\n",
        "                    {\"type\": \"text\", \"text\": question_text},\n",
        "                    {\n",
        "                        \"type\": \"image_url\",\n",
        "                        \"image_url\": {\n",
        "                            \"url\": image_url,\n",
        "                        },\n",
        "                    },\n",
        "                ],\n",
        "            }\n",
        "        ],\n",
        "        max_tokens=300,\n",
        "    )\n",
        "\n",
        "    # Extract the response text\n",
        "    response_text = response.choices[0].message.content\n",
        "    return response_text"
      ],
      "metadata": {
        "id": "iOmfa7UIboIm"
      },
      "execution_count": null,
      "outputs": []
    },
    {
      "cell_type": "code",
      "source": [],
      "metadata": {
        "id": "OhqgnFHvbsWZ"
      },
      "execution_count": null,
      "outputs": []
    },
    {
      "cell_type": "code",
      "source": [
        "# 응답 텍스트를 타입라이터 효과로 점진적으로 표시\n",
        "\n",
        "def display_typewriter(question_text, response_text, image_url):\n",
        "    typewriter_text = \"\"\n",
        "    for chunk in response_text.split():\n",
        "        typewriter_text += chunk + ' '\n",
        "        with output_area:\n",
        "            clear_output(wait=True)  # 출력 영역 clear\n",
        "\n",
        "            display(HTML(f\"\"\"\n",
        "            <div style=\"display: flex; align-items: flex-start; justify-content: space-between; border: 1px solid #ccc; padding: 10px; margin: 10px 0;\">\n",
        "              <div style=\"width: 45%; font-family: Arial, sans-serif; font-size: 16px; overflow-wrap: break-word;\">\n",
        "                <strong>Question:</strong><br>\n",
        "                {question_text}<br><br>\n",
        "                <strong>Response:</strong><br>\n",
        "                {typewriter_text}\n",
        "              </div>\n",
        "              <div style=\"width: 45%; text-align: right;\">\n",
        "                <img src=\"{image_url}\" style=\"width:100%;\" />\n",
        "              </div>\n",
        "            </div>\n",
        "            \"\"\"))\n",
        "        time.sleep(0.1)  # Adjust typing speed here"
      ],
      "metadata": {
        "id": "1W3wsipnbodO"
      },
      "execution_count": null,
      "outputs": []
    },
    {
      "cell_type": "code",
      "source": [
        "# 폼 제출 시 호출되는 함수\n",
        "def on_submit_form(button):\n",
        "    question_text = question_input.value\n",
        "    image_url = image_url_input.value\n",
        "\n",
        "    # 질문과 이미지 URL이 제공된 경우에만 API 호출\n",
        "    if question_text and image_url:\n",
        "        response_text = fetch_response(question_text, image_url)\n",
        "\n",
        "        # 질문과 응답을 출력 영역에 표시\n",
        "        display_typewriter(question_text, response_text, image_url)"
      ],
      "metadata": {
        "id": "O9lqsxj_bv1i"
      },
      "execution_count": null,
      "outputs": []
    },
    {
      "cell_type": "code",
      "source": [
        "# 질문과 응답을 표시할 출력 영역을 생성\n",
        "output_area = widgets.Output()\n",
        "\n",
        "\n",
        "# 질문 입력 필드 정의\n",
        "question_input = widgets.Textarea(\n",
        "    value='',\n",
        "    placeholder='Enter your question here',\n",
        "    description='Question:',\n",
        "    disabled=False\n",
        ")\n",
        "\n",
        "\n",
        "# 이미지 URL 입력 필드 정의\n",
        "image_url_input = widgets.Text(\n",
        "    value='',\n",
        "    placeholder='Enter image URL here',\n",
        "    description='Image URL:',\n",
        "    disabled=False\n",
        ")\n",
        "\n",
        "\n",
        "# 제출 버튼 정의 및 클릭 이벤트 핸들러 설정\n",
        "submit_button = widgets.Button(\n",
        "    description=\"Submit\",\n",
        "    disabled=False,\n",
        "    button_style='primary'\n",
        ")\n",
        "\n",
        "submit_button.on_click(on_submit_form)\n",
        "\n",
        "# 폼과 출력 영역을 표시\n",
        "display(question_input, image_url_input, submit_button, output_area)"
      ],
      "metadata": {
        "colab": {
          "base_uri": "https://localhost:8080/",
          "height": 126,
          "referenced_widgets": [
            "9244ed73ec9b4b548de909cca65be767",
            "745335a74f254d179892fc8d8e5d3402",
            "7ebe007ab8fb4ff9a9d4361e00c1d152",
            "932859051f8e45de9a590db6dcfef8b5",
            "27b741d2e80a42ac97a243f9e7fd6a77",
            "9c4f81265e6d4abf9eeff0d9c92d173a",
            "310ae38103cf4156847fa23b1f900429",
            "3d6bfd6b14ea4959ad166f1221ef87fa",
            "3a3c1741f27649e78f6a9c68f60c1023",
            "de4262735cc345a89f77b774214b8d39",
            "68edeba0848e4588aba46f7c8b8bde99"
          ]
        },
        "id": "Z_MSCeNiZvkF",
        "outputId": "d5229493-4583-4dcc-9e3a-a1b28f9fc153"
      },
      "execution_count": 8,
      "outputs": [
        {
          "output_type": "display_data",
          "data": {
            "text/plain": [
              "Textarea(value='', description='Question:', placeholder='Enter your question here')"
            ],
            "application/vnd.jupyter.widget-view+json": {
              "version_major": 2,
              "version_minor": 0,
              "model_id": "9244ed73ec9b4b548de909cca65be767"
            }
          },
          "metadata": {}
        },
        {
          "output_type": "display_data",
          "data": {
            "text/plain": [
              "Text(value='', description='Image URL:', placeholder='Enter image URL here')"
            ],
            "application/vnd.jupyter.widget-view+json": {
              "version_major": 2,
              "version_minor": 0,
              "model_id": "932859051f8e45de9a590db6dcfef8b5"
            }
          },
          "metadata": {}
        },
        {
          "output_type": "display_data",
          "data": {
            "text/plain": [
              "Button(button_style='primary', description='Submit', style=ButtonStyle())"
            ],
            "application/vnd.jupyter.widget-view+json": {
              "version_major": 2,
              "version_minor": 0,
              "model_id": "310ae38103cf4156847fa23b1f900429"
            }
          },
          "metadata": {}
        },
        {
          "output_type": "display_data",
          "data": {
            "text/plain": [
              "Output()"
            ],
            "application/vnd.jupyter.widget-view+json": {
              "version_major": 2,
              "version_minor": 0,
              "model_id": "de4262735cc345a89f77b774214b8d39"
            }
          },
          "metadata": {}
        }
      ]
    },
    {
      "cell_type": "code",
      "source": [],
      "metadata": {
        "id": "jfyFWRgRappr"
      },
      "execution_count": null,
      "outputs": []
    }
  ]
}