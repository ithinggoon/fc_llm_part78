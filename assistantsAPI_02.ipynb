{
 "cells": [
  {
   "cell_type": "code",
   "execution_count": null,
   "id": "cdd2e51e-ab10-43c7-be2d-3d5380d67acf",
   "metadata": {},
   "outputs": [],
   "source": [
    "python main.py"
   ]
  },
  {
   "cell_type": "code",
   "execution_count": null,
   "id": "145863ba-725d-4141-9c03-d54f36ca9e8c",
   "metadata": {},
   "outputs": [],
   "source": [
    "import os\n",
    "import io\n",
    "import json\n",
    "import asyncio\n",
    "import base64\n",
    "import websockets\n",
    "from pydub import AudioSegment\n",
    "import soundfile as sf\n",
    "import gradio as gr\n",
    "from dotenv import load_dotenv\n",
    "\n",
    "load_dotenv()\n",
    "\n",
    "async def connect_to_openai_websocket(audio_event):\n",
    "    url = \"wss://api.openai.com/v1/realtime?model=gpt-4o-realtime-preview-2024-10-01\"\n",
    "    headers = {\n",
    "        \"Authorization\": f\"Bearer {os.getenv('OPENAI_API_KEY')}\",\n",
    "        \"OpenAI-Beta\": \"realtime=v1\",\n",
    "    }\n",
    "\n",
    "    async with websockets.connect(url, extra_headers=headers) as ws:\n",
    "        print(\"Connected to server.\")\n",
    "\n",
    "        # Send audio event to the server\n",
    "        await ws.send(audio_event)\n",
    "        print(\"Audio event sent.\")\n",
    "\n",
    "        async for message in ws:\n",
    "            event = json.loads(message)\n",
    "\n",
    "            # Check if the message is an audio response\n",
    "            if event.get('type') == 'conversation.item.created':\n",
    "\n",
    "                # Send a command to create a response\n",
    "                response_message = {\n",
    "                    \"type\": \"response.create\"\n",
    "                }\n",
    "                await ws.send(json.dumps(response_message))\n",
    "                print(\"Response create command sent.\")\n",
    "\n",
    "                audio_data_list = []\n",
    "\n",
    "                # Listen for messages from the server\n",
    "                async for message in ws:\n",
    "                    event = json.loads(message)\n",
    "\n",
    "                    # Check if the message is an audio response\n",
    "                    if event.get('type') == 'response.audio.delta':\n",
    "                        audio_data_list.append(event['delta'])\n",
    "\n",
    "                    # Check if the message is an audio response\n",
    "                    if event.get('type') == 'response.audio.done':\n",
    "                        full_audio_base64 = ''.join(audio_data_list)  \n",
    "\n",
    "                        audio_data = base64.b64decode(full_audio_base64)\n",
    "                        return audio_data\n",
    "\n",
    "def numpy_to_audio_bytes(audio_np, sample_rate):\n",
    "    with io.BytesIO() as buffer:\n",
    "        # Write the audio data to the buffer in WAV format\n",
    "        sf.write(buffer, audio_np, samplerate=sample_rate, format='WAV')\n",
    "        buffer.seek(0)  # Move to the beginning of the buffer\n",
    "        wav_bytes = buffer.read()\n",
    "    return wav_bytes\n",
    "\n",
    "def audio_to_item_create_event(audio_data: tuple) -> str:\n",
    "    sample_rate, audio_np = audio_data\n",
    "    audio_bytes = numpy_to_audio_bytes(audio_np, sample_rate)\n",
    "    \n",
    "    pcm_base64 = base64.b64encode(audio_bytes).decode('utf-8')\n",
    "    \n",
    "    event = {\n",
    "        \"type\": \"conversation.item.create\",\n",
    "        \"item\": {\n",
    "            \"type\": \"message\",\n",
    "            \"role\": \"user\",\n",
    "            \"content\": [{\n",
    "                \"type\": \"input_audio\",\n",
    "                \"audio\": pcm_base64\n",
    "            }]\n",
    "        }\n",
    "    }\n",
    "    return json.dumps(event)\n",
    "\n",
    "def voice_chat_response(audio_data, history):\n",
    "    audio_event = audio_to_item_create_event(audio_data)\n",
    "    audio_response = asyncio.run(connect_to_openai_websocket(audio_event))\n",
    "\n",
    "    if isinstance(audio_response, bytes):\n",
    "        audio_io = io.BytesIO(audio_response)\n",
    "        audio_segment = AudioSegment.from_raw(\n",
    "            audio_io, \n",
    "            sample_width=2, \n",
    "            frame_rate=24000, \n",
    "            channels=1\n",
    "        )\n",
    "        \n",
    "        # Output audio as file-compatible stream for Gradio playback\n",
    "        with io.BytesIO() as buffered:\n",
    "            audio_segment.export(buffered, format=\"wav\")\n",
    "            return buffered.getvalue(), history  #\n",
    "\n",
    "    return None, history\n",
    "\n",
    "# Gradio Interface Setup\n",
    "with gr.Blocks(title=\"OpenAI Realtime API\") as demo:\n",
    "    gr.Markdown(\"<h1 style='text-align: center;'>OpenAI Realtime API</h1>\")\n",
    "\n",
    "    with gr.Tab(\"VoiceChat\"):\n",
    "        gr.Markdown(\"Speak to interact with the OpenAI model in real-time and hear its responses.\")\n",
    "\n",
    "        audio_input = gr.Audio(\n",
    "            label=\"Record your voice\",\n",
    "            sources=\"microphone\",\n",
    "            type=\"numpy\",\n",
    "            render=True\n",
    "        )\n",
    "        \n",
    "        audio_output = gr.Audio(\n",
    "            autoplay=True,\n",
    "            render=True\n",
    "        )\n",
    "        \n",
    "        history_state = gr.State([])\n",
    "\n",
    "        gr.Interface(\n",
    "            fn=voice_chat_response,\n",
    "            inputs=[audio_input, history_state],\n",
    "            outputs=[audio_output, history_state]\n",
    "        )\n",
    "\n",
    "if __name__ == \"__main__\":\n",
    "    demo.launch()"
   ]
  },
  {
   "cell_type": "code",
   "execution_count": 13,
   "id": "cbeafb6e-c0b8-4364-8b41-cb031e3080be",
   "metadata": {
    "scrolled": true
   },
   "outputs": [],
   "source": [
    "from openai import OpenAI\n",
    "import openai\n",
    "import requests\n",
    "import json\n",
    "\n",
    "# Define the function to get weather data\n",
    "def get_weather_data(latitude: float, longitude: float) -> dict:\n",
    "    url = f\"https://api.open-meteo.com/v1/forecast?latitude={latitude}&longitude={longitude}&current_weather=true&hourly=temperature_2m,relative_humidity_2m,wind_speed_10m\"\n",
    "    response = requests.get(url)\n",
    "    if response.status_code == 200:\n",
    "        return response.json()\n",
    "    else:\n",
    "        return {\"error\": f\"Failed to retrieve data, status code {response.status_code}\"}\n",
    "\n",
    "# Define the tools list for the Assistant\n",
    "tools_list = [{\n",
    "    \"type\": \"function\",\n",
    "    \"function\": {\n",
    "        \"name\": \"get_weather_data\",\n",
    "        \"description\": \"Retrieve the current weather data for a specified location\",\n",
    "        \"parameters\": {\n",
    "            \"type\": \"object\",\n",
    "            \"properties\": {\n",
    "                \"latitude\": {\n",
    "                    \"type\": \"number\",\n",
    "                    \"description\": \"The latitude of the location\"\n",
    "                },\n",
    "                \"longitude\": {\n",
    "                    \"type\": \"number\",\n",
    "                    \"description\": \"The longitude of the location\"\n",
    "                }\n",
    "            },\n",
    "            \"required\": [\"latitude\", \"longitude\"]\n",
    "        }\n",
    "    }\n",
    "}]\n",
    "\n",
    "# Initialize the OpenAI client\n",
    "client = OpenAI(api_key=\"XXX\")\n",
    "\n",
    "# Step 1: Create an Assistant\n",
    "assistant = client.beta.assistants.create(\n",
    "    name=\"English Speaking Assistant\",\n",
    "    instructions=\"\"\"\n",
    "    You are an English-speaking practice assistant. \n",
    "    Your goal is to help users improve their English by providing feedback, \n",
    "    practicing real-life scenarios, \n",
    "    and correcting grammar and pronunciation. \n",
    "    Be encouraging and constructive in your responses.\n",
    "    You can also provide weather-related conversations when asked.\n",
    "    \"\"\",\n",
    "    tools=tools_list,\n",
    "    model=\"gpt-4-1106-preview\",\n",
    ")\n",
    "\n",
    "# Step 2: Create a Thread\n",
    "thread = client.beta.threads.create()\n",
    "\n",
    "# Step 3: Add a Message to a Thread\n",
    "message = client.beta.threads.messages.create(\n",
    "    thread_id=thread.id,\n",
    "    role=\"user\",\n",
    "    content=\"How is the weather in seoul??\"\n",
    ")\n"
   ]
  },
  {
   "cell_type": "code",
   "execution_count": 14,
   "id": "2cd7d51e-6091-485f-b50b-b34434846b96",
   "metadata": {},
   "outputs": [],
   "source": [
    "\n",
    "# Step 4: Run the Assistant and get immediate results\n",
    "run = client.beta.threads.runs.create_and_poll(\n",
    "    thread_id=thread.id,\n",
    "    assistant_id=assistant.id,\n",
    "    instructions=\"Answer the user's questions\"\n",
    ")\n",
    "\n",
    "# Check if the Assistant requires a tool function\n",
    "# Check if the Assistant requires a tool function\n",
    "if run.status == \"requires_action\":\n",
    "    required_actions = run.required_action.submit_tool_outputs.model_dump()\n",
    "    tool_outputs = []\n",
    "    \n",
    "    for action in required_actions[\"tool_calls\"]:\n",
    "        func_name = action['function']['name']\n",
    "        arguments = json.loads(action['function']['arguments'])\n",
    "        \n",
    "        if func_name == \"get_weather_data\":\n",
    "            latitude = arguments[\"latitude\"]\n",
    "            longitude = arguments[\"longitude\"]\n",
    "            # Fetch the weather data\n",
    "            output = get_weather_data(latitude=latitude, longitude=longitude)\n",
    "            \n",
    "            # Convert the output to a JSON string\n",
    "            tool_outputs.append({\n",
    "                \"tool_call_id\": action['id'],\n",
    "                \"output\": json.dumps(output)  # Serialize to JSON string\n",
    "            })\n",
    "        else:\n",
    "            raise ValueError(f\"Unknown function: {func_name}\")\n",
    "    \n",
    "    # Submit the tool outputs back to the Assistant\n",
    "    client.beta.threads.runs.submit_tool_outputs(\n",
    "        thread_id=thread.id,\n",
    "        run_id=run.id,\n",
    "        tool_outputs=tool_outputs\n",
    "    )\n"
   ]
  },
  {
   "cell_type": "code",
   "execution_count": 16,
   "id": "f2289161-9670-4bb8-93bd-60aec579a030",
   "metadata": {},
   "outputs": [],
   "source": [
    "messages = client.beta.threads.messages.list(thread_id=thread.id)"
   ]
  },
  {
   "cell_type": "code",
   "execution_count": 18,
   "id": "d0696807-2d7d-4051-af45-909af5c6a67e",
   "metadata": {},
   "outputs": [
    {
     "data": {
      "text/plain": [
       "SyncCursorPage[Message](data=[Message(id='msg_SUPPsRf2YFHvu8tC50ctpo13', assistant_id='asst_s82RQ16Xqx0jW98Q1tveUB2H', attachments=[], completed_at=None, content=[TextContentBlock(text=Text(annotations=[], value=\"The current weather in Seoul is as follows:\\n\\n- Temperature: 5.2°C\\n- Wind Speed: 5.4 km/h\\n- Wind Direction: 352° (North)\\n- Weather Condition: Clear weather (WMO code: 0)\\n- Time of Weather Report: November 18, 2024, at 07:00 GMT\\n\\nPlease note that this data may not be up-to-the-minute accurate, as it's reflecting a weather report from November 18, 2024. For the latest weather updates, always check with a reliable real-time weather service.\"), type='text')], created_at=1731913880, incomplete_at=None, incomplete_details=None, metadata={}, object='thread.message', role='assistant', run_id='run_DhEQeMY1DtLXduEgCUENXjWI', status=None, thread_id='thread_ttV3esQD37hxGj5B5dtt0Axx'), Message(id='msg_XAIM2OLOh8YLDkMquqPYAhlA', assistant_id=None, attachments=[], completed_at=None, content=[TextContentBlock(text=Text(annotations=[], value='How is the weather in seoul??'), type='text')], created_at=1731913873, incomplete_at=None, incomplete_details=None, metadata={}, object='thread.message', role='user', run_id=None, status=None, thread_id='thread_ttV3esQD37hxGj5B5dtt0Axx')], object='list', first_id='msg_SUPPsRf2YFHvu8tC50ctpo13', last_id='msg_XAIM2OLOh8YLDkMquqPYAhlA', has_more=False)"
      ]
     },
     "execution_count": 18,
     "metadata": {},
     "output_type": "execute_result"
    }
   ],
   "source": [
    "messages"
   ]
  },
  {
   "cell_type": "code",
   "execution_count": 25,
   "id": "2ad9ae58-6dd3-43cd-898f-27522283df91",
   "metadata": {},
   "outputs": [
    {
     "data": {
      "text/plain": [
       "\"The current weather in Seoul is as follows:\\n\\n- Temperature: 5.2°C\\n- Wind Speed: 5.4 km/h\\n- Wind Direction: 352° (North)\\n- Weather Condition: Clear weather (WMO code: 0)\\n- Time of Weather Report: November 18, 2024, at 07:00 GMT\\n\\nPlease note that this data may not be up-to-the-minute accurate, as it's reflecting a weather report from November 18, 2024. For the latest weather updates, always check with a reliable real-time weather service.\""
      ]
     },
     "execution_count": 25,
     "metadata": {},
     "output_type": "execute_result"
    }
   ],
   "source": [
    "messages.data[0].content[0].text.value"
   ]
  },
  {
   "cell_type": "code",
   "execution_count": 3,
   "id": "f20b4cec-7858-4e30-9721-ba450101ec2f",
   "metadata": {},
   "outputs": [
    {
     "ename": "IndexError",
     "evalue": "list index out of range",
     "output_type": "error",
     "traceback": [
      "\u001b[1;31m---------------------------------------------------------------------------\u001b[0m",
      "\u001b[1;31mIndexError\u001b[0m                                Traceback (most recent call last)",
      "Cell \u001b[1;32mIn[3], line 7\u001b[0m\n\u001b[0;32m      5\u001b[0m \u001b[38;5;28;01mfor\u001b[39;00m msg \u001b[38;5;129;01min\u001b[39;00m messages\u001b[38;5;241m.\u001b[39mdata:\n\u001b[0;32m      6\u001b[0m     role \u001b[38;5;241m=\u001b[39m msg\u001b[38;5;241m.\u001b[39mrole\n\u001b[1;32m----> 7\u001b[0m     content \u001b[38;5;241m=\u001b[39m msg\u001b[38;5;241m.\u001b[39mcontent[\u001b[38;5;241m0\u001b[39m]\u001b[38;5;241m.\u001b[39mtext\u001b[38;5;241m.\u001b[39mvalue\n\u001b[0;32m      8\u001b[0m     \u001b[38;5;28mprint\u001b[39m(\u001b[38;5;124mf\u001b[39m\u001b[38;5;124m\"\u001b[39m\u001b[38;5;132;01m{\u001b[39;00mrole\u001b[38;5;241m.\u001b[39mcapitalize()\u001b[38;5;132;01m}\u001b[39;00m\u001b[38;5;124m: \u001b[39m\u001b[38;5;132;01m{\u001b[39;00mcontent\u001b[38;5;132;01m}\u001b[39;00m\u001b[38;5;124m\"\u001b[39m)\n",
      "\u001b[1;31mIndexError\u001b[0m: list index out of range"
     ]
    }
   ],
   "source": [
    "\n",
    "# Retrieve the Assistant's response\n",
    "messages = client.beta.threads.messages.list(thread_id=thread.id)\n",
    "\n",
    "# Print the final response\n",
    "for msg in messages.data:\n",
    "    role = msg.role\n",
    "    content = msg.content[0].text.value\n",
    "    print(f\"{role.capitalize()}: {content}\")"
   ]
  },
  {
   "cell_type": "code",
   "execution_count": null,
   "id": "1e81dbbd-3363-4e7c-a3bd-d51d236d728b",
   "metadata": {},
   "outputs": [],
   "source": [
    "\n",
    "# Retrieve the Assistant's response\n",
    "messages = client.beta.threads.messages.list(thread_id=thread.id)\n",
    "\n",
    "# Print the final response\n",
    "for msg in messages.data:\n",
    "    role = msg.role\n",
    "    content = msg.content[0].text.value\n",
    "    print(f\"{role.capitalize()}: {content}\")"
   ]
  },
  {
   "cell_type": "code",
   "execution_count": null,
   "id": "8bb66a6c-f6c2-40b3-babc-bd8ef8173292",
   "metadata": {},
   "outputs": [],
   "source": []
  },
  {
   "cell_type": "code",
   "execution_count": null,
   "id": "5a091d4d-2f3c-4b20-a15c-9af54acd61cd",
   "metadata": {},
   "outputs": [],
   "source": []
  },
  {
   "cell_type": "code",
   "execution_count": null,
   "id": "d1b41ebe-05ea-4911-b317-001d85496277",
   "metadata": {},
   "outputs": [],
   "source": []
  },
  {
   "cell_type": "code",
   "execution_count": null,
   "id": "a3a867db-94fa-4ac6-a87d-ade35d1d669a",
   "metadata": {},
   "outputs": [],
   "source": []
  },
  {
   "cell_type": "code",
   "execution_count": null,
   "id": "b66a2cbb-f413-413b-b5f4-26156ad11439",
   "metadata": {},
   "outputs": [],
   "source": [
    "from openai import OpenAI\n",
    "\n",
    "client = OpenAI(api_key=\"\")"
   ]
  },
  {
   "cell_type": "code",
   "execution_count": null,
   "id": "21f38bde-01fb-4832-bb5a-1d81ba8c0d86",
   "metadata": {},
   "outputs": [],
   "source": [
    "assistant = client.beta.assistants.create(\n",
    "    name=\"English Speaking Assistant\",\n",
    "    instructions=\"\"\"\n",
    "    You are an English-speaking practice assistant. \n",
    "    Your goal is to help users improve their English by providing feedback, \n",
    "    practicing real-life scenarios, \n",
    "    and correcting grammar and pronunciation. \n",
    "    Be encouraging and constructive in your responses.\n",
    "    \"\"\",\n",
    "    tools=[{\"type\":\"file_search\"}],\n",
    "    model=\"gpt-4o\"\n",
    ")"
   ]
  },
  {
   "cell_type": "code",
   "execution_count": null,
   "id": "300ea83a-4024-4d73-998e-4b1a51ec31ae",
   "metadata": {},
   "outputs": [],
   "source": [
    "vector_store = client.beta.vector_stores.create(\n",
    "    name=\"conversation logs\"\n",
    ")"
   ]
  },
  {
   "cell_type": "code",
   "execution_count": null,
   "id": "1639e88d-f75c-4757-8378-8108e3a528bc",
   "metadata": {},
   "outputs": [],
   "source": [
    "file_paths = [\n",
    "    \"내가_가장_가보고_싶은_여행지.txt\", \n",
    "    \"내가_감명_깊게_본_영화나_드라마.txt\",\n",
    "    \"스트레스_해소를_위한_나만의_방법.txt\"\n",
    "]"
   ]
  },
  {
   "cell_type": "code",
   "execution_count": null,
   "id": "a5385a69-871e-4014-992a-8ac3c80712c8",
   "metadata": {},
   "outputs": [],
   "source": [
    "file_streams = [open(path, \"rb\") for path in file_paths]"
   ]
  },
  {
   "cell_type": "code",
   "execution_count": null,
   "id": "013c6842-aa87-458c-a009-c386715d64c2",
   "metadata": {},
   "outputs": [],
   "source": [
    "file_batch = client.beta.vector_stores.file_batches.upload_and_poll(\n",
    "    vector_store_id=vector_store.id,\n",
    "    files=file_streams\n",
    ")"
   ]
  },
  {
   "cell_type": "code",
   "execution_count": null,
   "id": "ece8e4e0-30d0-4f3f-9339-16af67de0eff",
   "metadata": {},
   "outputs": [],
   "source": [
    "print(file_batch.status)"
   ]
  },
  {
   "cell_type": "code",
   "execution_count": null,
   "id": "add04578-0969-42c7-bf48-7b8de35b2877",
   "metadata": {},
   "outputs": [],
   "source": [
    "print(file_batch.file_counts)"
   ]
  },
  {
   "cell_type": "code",
   "execution_count": null,
   "id": "37e0621a-a427-4bb2-80c7-af7c5acc712a",
   "metadata": {},
   "outputs": [],
   "source": [
    "assistant = client.beta.assistants.update(\n",
    "    assistant_id=assistant.id,\n",
    "    tool_resources={\"file_search\":{\"vector_store_ids\":[vector_store.id]}}\n",
    "        \n",
    ")"
   ]
  },
  {
   "cell_type": "code",
   "execution_count": null,
   "id": "b71b9f9d-f6e7-4f21-9544-78d2a70bf294",
   "metadata": {},
   "outputs": [],
   "source": [
    "assistant"
   ]
  },
  {
   "cell_type": "code",
   "execution_count": null,
   "id": "0f4543a3-1909-45f9-80ba-ac7a0330ba1e",
   "metadata": {},
   "outputs": [],
   "source": []
  },
  {
   "cell_type": "code",
   "execution_count": null,
   "id": "6bb90764-764c-48d7-93d6-1f3c0aea2c3d",
   "metadata": {},
   "outputs": [],
   "source": []
  },
  {
   "cell_type": "code",
   "execution_count": null,
   "id": "a835a936-2025-433e-8ff6-05d9e4e55bc2",
   "metadata": {},
   "outputs": [],
   "source": []
  },
  {
   "cell_type": "code",
   "execution_count": null,
   "id": "6fed0e07-04c3-46c6-ac6e-c9f7ab84a88b",
   "metadata": {},
   "outputs": [],
   "source": [
    "vector_store"
   ]
  },
  {
   "cell_type": "code",
   "execution_count": null,
   "id": "c1f33aae-37a7-4f3c-baf0-88020cab6dea",
   "metadata": {},
   "outputs": [],
   "source": [
    "thread = client.beta.threads.create()"
   ]
  },
  {
   "cell_type": "code",
   "execution_count": null,
   "id": "a67ff5d5-1431-4d38-b9b5-a9ddd749302c",
   "metadata": {},
   "outputs": [],
   "source": [
    "message = client.beta.threads.messages.create(\n",
    "    thread_id=thread.id,\n",
    "    role=\"user\",\n",
    "    content=\"Help me find a document containing a conversation about Norway.\"\n",
    ")"
   ]
  },
  {
   "cell_type": "code",
   "execution_count": null,
   "id": "8756cfaf-ef97-420a-96ca-6961c2e87e30",
   "metadata": {},
   "outputs": [],
   "source": [
    "run = client.beta.threads.runs.create_and_poll(\n",
    "    thread_id=thread.id,\n",
    "    assistant_id=assistant.id\n",
    ")"
   ]
  },
  {
   "cell_type": "code",
   "execution_count": null,
   "id": "b9c3e13f-1136-4fa6-9eaa-b23ee9d1355b",
   "metadata": {},
   "outputs": [],
   "source": [
    "messages = client.beta.threads.messages.list(\n",
    "    thread_id=thread.id\n",
    ")\n"
   ]
  },
  {
   "cell_type": "code",
   "execution_count": null,
   "id": "d6188513-cac4-48fa-b21d-7516712771f9",
   "metadata": {},
   "outputs": [],
   "source": [
    "messages.data[0].content[0].text.value"
   ]
  },
  {
   "cell_type": "code",
   "execution_count": null,
   "id": "17d76da6-4638-44b8-9b3f-55d26817d079",
   "metadata": {},
   "outputs": [],
   "source": [
    "thread"
   ]
  },
  {
   "cell_type": "code",
   "execution_count": null,
   "id": "d72d0157-9631-47e9-a731-6552bfde0861",
   "metadata": {},
   "outputs": [],
   "source": [
    "message = client.beta.threads.messages.create(\n",
    "    thread_id=thread.id,\n",
    "    role=\"user\",\n",
    "    content=\"I want to practice speaking English. Can you help me?\"\n",
    ")"
   ]
  },
  {
   "cell_type": "code",
   "execution_count": null,
   "id": "f075dda6-6e1f-4147-ba9a-cbe6586bd6e0",
   "metadata": {},
   "outputs": [],
   "source": [
    "run = client.beta.threads.runs.create_and_poll(\n",
    "    thread_id=thread.id,\n",
    "    assistant_id=assistant.id\n",
    ")"
   ]
  },
  {
   "cell_type": "code",
   "execution_count": null,
   "id": "7b2a18ea-cd06-4085-a379-f6f9622ac582",
   "metadata": {},
   "outputs": [],
   "source": [
    "messages = client.beta.threads.messages.list(\n",
    "    thread_id=thread.id\n",
    ")"
   ]
  },
  {
   "cell_type": "code",
   "execution_count": null,
   "id": "86edf9a5-a1b3-4a0a-9086-e09fa05372f8",
   "metadata": {},
   "outputs": [],
   "source": [
    "messages.data[0]"
   ]
  },
  {
   "cell_type": "code",
   "execution_count": null,
   "id": "7028664b-5ee7-4992-95c7-c6368705f06f",
   "metadata": {},
   "outputs": [],
   "source": []
  }
 ],
 "metadata": {
  "kernelspec": {
   "display_name": "whisper",
   "language": "python",
   "name": "whisper"
  },
  "language_info": {
   "codemirror_mode": {
    "name": "ipython",
    "version": 3
   },
   "file_extension": ".py",
   "mimetype": "text/x-python",
   "name": "python",
   "nbconvert_exporter": "python",
   "pygments_lexer": "ipython3",
   "version": "3.12.7"
  }
 },
 "nbformat": 4,
 "nbformat_minor": 5
}
