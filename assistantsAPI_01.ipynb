{
 "cells": [
  {
   "cell_type": "code",
   "execution_count": 1,
   "id": "b66a2cbb-f413-413b-b5f4-26156ad11439",
   "metadata": {},
   "outputs": [],
   "source": [
    "from openai import OpenAI\n",
    "\n",
    "client = OpenAI(api_key=\"XXX\")"
   ]
  },
  {
   "cell_type": "code",
   "execution_count": 11,
   "id": "21f38bde-01fb-4832-bb5a-1d81ba8c0d86",
   "metadata": {},
   "outputs": [],
   "source": [
    "assistant = client.beta.assistants.create(\n",
    "    name=\"English Speaking Assistant\",\n",
    "    instructions=\"\"\"\n",
    "    You are an English-speaking practice assistant. \n",
    "    Your goal is to help users improve their English by providing feedback, \n",
    "    practicing real-life scenarios, \n",
    "    and correcting grammar and pronunciation. \n",
    "    Be encouraging and constructive in your responses.\n",
    "    \"\"\",\n",
    "    tools=[{\"type\":\"file_search\"}],\n",
    "    model=\"gpt-4o\"\n",
    ")"
   ]
  },
  {
   "cell_type": "code",
   "execution_count": 12,
   "id": "300ea83a-4024-4d73-998e-4b1a51ec31ae",
   "metadata": {},
   "outputs": [],
   "source": [
    "vector_store = client.beta.vector_stores.create(\n",
    "    name=\"conversation logs\"\n",
    ")"
   ]
  },
  {
   "cell_type": "code",
   "execution_count": 14,
   "id": "1639e88d-f75c-4757-8378-8108e3a528bc",
   "metadata": {},
   "outputs": [],
   "source": [
    "file_paths = [\n",
    "    \"내가_가장_가보고_싶은_여행지.txt\", \n",
    "    \"내가_감명_깊게_본_영화나_드라마.txt\",\n",
    "    \"스트레스_해소를_위한_나만의_방법.txt\"\n",
    "]"
   ]
  },
  {
   "cell_type": "code",
   "execution_count": 15,
   "id": "a5385a69-871e-4014-992a-8ac3c80712c8",
   "metadata": {},
   "outputs": [],
   "source": [
    "file_streams = [open(path, \"rb\") for path in file_paths]"
   ]
  },
  {
   "cell_type": "code",
   "execution_count": 16,
   "id": "013c6842-aa87-458c-a009-c386715d64c2",
   "metadata": {},
   "outputs": [],
   "source": [
    "file_batch = client.beta.vector_stores.file_batches.upload_and_poll(\n",
    "    vector_store_id=vector_store.id,\n",
    "    files=file_streams\n",
    ")"
   ]
  },
  {
   "cell_type": "code",
   "execution_count": 17,
   "id": "ece8e4e0-30d0-4f3f-9339-16af67de0eff",
   "metadata": {},
   "outputs": [
    {
     "name": "stdout",
     "output_type": "stream",
     "text": [
      "completed\n"
     ]
    }
   ],
   "source": [
    "print(file_batch.status)"
   ]
  },
  {
   "cell_type": "code",
   "execution_count": 18,
   "id": "add04578-0969-42c7-bf48-7b8de35b2877",
   "metadata": {},
   "outputs": [
    {
     "name": "stdout",
     "output_type": "stream",
     "text": [
      "FileCounts(cancelled=0, completed=3, failed=0, in_progress=0, total=3)\n"
     ]
    }
   ],
   "source": [
    "print(file_batch.file_counts)"
   ]
  },
  {
   "cell_type": "code",
   "execution_count": 19,
   "id": "37e0621a-a427-4bb2-80c7-af7c5acc712a",
   "metadata": {},
   "outputs": [],
   "source": [
    "assistant = client.beta.assistants.update(\n",
    "    assistant_id=assistant.id,\n",
    "    tool_resources={\"file_search\":{\"vector_store_ids\":[vector_store.id]}}\n",
    "        \n",
    ")"
   ]
  },
  {
   "cell_type": "code",
   "execution_count": 20,
   "id": "b71b9f9d-f6e7-4f21-9544-78d2a70bf294",
   "metadata": {},
   "outputs": [
    {
     "data": {
      "text/plain": [
       "Assistant(id='asst_6iIui3CjPVR5GExUoSjgETh6', created_at=1731912347, description=None, instructions='\\n    You are an English-speaking practice assistant. \\n    Your goal is to help users improve their English by providing feedback, \\n    practicing real-life scenarios, \\n    and correcting grammar and pronunciation. \\n    Be encouraging and constructive in your responses.\\n    ', metadata={}, model='gpt-4o', name='English Speaking Assistant', object='assistant', tools=[FileSearchTool(type='file_search', file_search=FileSearch(max_num_results=None, ranking_options=FileSearchRankingOptions(score_threshold=0.0, ranker='default_2024_08_21')))], response_format='auto', temperature=1.0, tool_resources=ToolResources(code_interpreter=None, file_search=ToolResourcesFileSearch(vector_store_ids=['vs_FBL3nbE8cO2caQi06ZN3jag1'])), top_p=1.0)"
      ]
     },
     "execution_count": 20,
     "metadata": {},
     "output_type": "execute_result"
    }
   ],
   "source": [
    "assistant"
   ]
  },
  {
   "cell_type": "code",
   "execution_count": null,
   "id": "0f4543a3-1909-45f9-80ba-ac7a0330ba1e",
   "metadata": {},
   "outputs": [],
   "source": []
  },
  {
   "cell_type": "code",
   "execution_count": null,
   "id": "6bb90764-764c-48d7-93d6-1f3c0aea2c3d",
   "metadata": {},
   "outputs": [],
   "source": []
  },
  {
   "cell_type": "code",
   "execution_count": null,
   "id": "a835a936-2025-433e-8ff6-05d9e4e55bc2",
   "metadata": {},
   "outputs": [],
   "source": []
  },
  {
   "cell_type": "code",
   "execution_count": 13,
   "id": "6fed0e07-04c3-46c6-ac6e-c9f7ab84a88b",
   "metadata": {},
   "outputs": [
    {
     "data": {
      "text/plain": [
       "VectorStore(id='vs_FBL3nbE8cO2caQi06ZN3jag1', created_at=1731912377, file_counts=FileCounts(cancelled=0, completed=0, failed=0, in_progress=0, total=0), last_active_at=1731912377, metadata={}, name='conversation logs', object='vector_store', status='completed', usage_bytes=0, expires_after=None, expires_at=None)"
      ]
     },
     "execution_count": 13,
     "metadata": {},
     "output_type": "execute_result"
    }
   ],
   "source": [
    "vector_store"
   ]
  },
  {
   "cell_type": "code",
   "execution_count": 21,
   "id": "c1f33aae-37a7-4f3c-baf0-88020cab6dea",
   "metadata": {},
   "outputs": [],
   "source": [
    "thread = client.beta.threads.create()"
   ]
  },
  {
   "cell_type": "code",
   "execution_count": 22,
   "id": "a67ff5d5-1431-4d38-b9b5-a9ddd749302c",
   "metadata": {},
   "outputs": [],
   "source": [
    "message = client.beta.threads.messages.create(\n",
    "    thread_id=thread.id,\n",
    "    role=\"user\",\n",
    "    content=\"Help me find a document containing a conversation about Norway.\"\n",
    ")"
   ]
  },
  {
   "cell_type": "code",
   "execution_count": 23,
   "id": "8756cfaf-ef97-420a-96ca-6961c2e87e30",
   "metadata": {},
   "outputs": [],
   "source": [
    "run = client.beta.threads.runs.create_and_poll(\n",
    "    thread_id=thread.id,\n",
    "    assistant_id=assistant.id\n",
    ")"
   ]
  },
  {
   "cell_type": "code",
   "execution_count": 24,
   "id": "b9c3e13f-1136-4fa6-9eaa-b23ee9d1355b",
   "metadata": {},
   "outputs": [],
   "source": [
    "messages = client.beta.threads.messages.list(\n",
    "    thread_id=thread.id\n",
    ")\n"
   ]
  },
  {
   "cell_type": "code",
   "execution_count": 30,
   "id": "d6188513-cac4-48fa-b21d-7516712771f9",
   "metadata": {},
   "outputs": [
    {
     "data": {
      "text/plain": [
       "'I found a document containing a conversation about Norway. It\\'s in the file titled \"내가_가장_가보고_싶은_여행지.txt\" where the tutor expresses a desire to visit Norway, specifically to see the beauty of the fjords【4:0†source】.'"
      ]
     },
     "execution_count": 30,
     "metadata": {},
     "output_type": "execute_result"
    }
   ],
   "source": [
    "messages.data[0].content[0].text.value"
   ]
  },
  {
   "cell_type": "code",
   "execution_count": 5,
   "id": "17d76da6-4638-44b8-9b3f-55d26817d079",
   "metadata": {},
   "outputs": [
    {
     "data": {
      "text/plain": [
       "Thread(id='thread_ASpLzQYXDOOZmcaLqaQ8QOjt', created_at=1731912085, metadata={}, object='thread', tool_resources=ToolResources(code_interpreter=None, file_search=None))"
      ]
     },
     "execution_count": 5,
     "metadata": {},
     "output_type": "execute_result"
    }
   ],
   "source": [
    "thread"
   ]
  },
  {
   "cell_type": "code",
   "execution_count": 6,
   "id": "d72d0157-9631-47e9-a731-6552bfde0861",
   "metadata": {},
   "outputs": [],
   "source": [
    "message = client.beta.threads.messages.create(\n",
    "    thread_id=thread.id,\n",
    "    role=\"user\",\n",
    "    content=\"I want to practice speaking English. Can you help me?\"\n",
    ")"
   ]
  },
  {
   "cell_type": "code",
   "execution_count": 7,
   "id": "f075dda6-6e1f-4147-ba9a-cbe6586bd6e0",
   "metadata": {},
   "outputs": [],
   "source": [
    "run = client.beta.threads.runs.create_and_poll(\n",
    "    thread_id=thread.id,\n",
    "    assistant_id=assistant.id\n",
    ")"
   ]
  },
  {
   "cell_type": "code",
   "execution_count": 8,
   "id": "7b2a18ea-cd06-4085-a379-f6f9622ac582",
   "metadata": {},
   "outputs": [],
   "source": [
    "messages = client.beta.threads.messages.list(\n",
    "    thread_id=thread.id\n",
    ")"
   ]
  },
  {
   "cell_type": "code",
   "execution_count": 10,
   "id": "86edf9a5-a1b3-4a0a-9086-e09fa05372f8",
   "metadata": {},
   "outputs": [
    {
     "data": {
      "text/plain": [
       "Message(id='msg_0evoe0dvNHil4OFT6wGwOpBS', assistant_id='asst_4V0eZNrXjtAhhNrvva07OWD8', attachments=[], completed_at=None, content=[TextContentBlock(text=Text(annotations=[], value=\"Of course! I'd be happy to help you practice speaking English. We can start with a simple conversation. Let's pretend we're meeting for the first time. You can introduce yourself, and I'll respond. \\n\\nGo ahead with your introduction!\"), type='text')], created_at=1731912184, incomplete_at=None, incomplete_details=None, metadata={}, object='thread.message', role='assistant', run_id='run_btaRrWgyoDuLetHdoYKqzaoi', status=None, thread_id='thread_ASpLzQYXDOOZmcaLqaQ8QOjt')"
      ]
     },
     "execution_count": 10,
     "metadata": {},
     "output_type": "execute_result"
    }
   ],
   "source": [
    "messages.data[0]"
   ]
  },
  {
   "cell_type": "code",
   "execution_count": null,
   "id": "7028664b-5ee7-4992-95c7-c6368705f06f",
   "metadata": {},
   "outputs": [],
   "source": []
  }
 ],
 "metadata": {
  "kernelspec": {
   "display_name": "whisper",
   "language": "python",
   "name": "whisper"
  },
  "language_info": {
   "codemirror_mode": {
    "name": "ipython",
    "version": 3
   },
   "file_extension": ".py",
   "mimetype": "text/x-python",
   "name": "python",
   "nbconvert_exporter": "python",
   "pygments_lexer": "ipython3",
   "version": "3.12.7"
  }
 },
 "nbformat": 4,
 "nbformat_minor": 5
}
